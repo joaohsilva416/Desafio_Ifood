{
 "cells": [
  {
   "cell_type": "markdown",
   "metadata": {},
   "source": [
    "# Desafio Ifood\n",
    "O conjunto de dados é composto por clientes da empresa Ifood com dados sobre:\n",
    "\n",
    "- Perfis de clientes\n",
    "- Preferências do produto\n",
    "- Sucessos/fracassos da campanha\n",
    "- Desempenho do canal"
   ]
  },
  {
   "cell_type": "code",
   "execution_count": null,
   "metadata": {},
   "outputs": [],
   "source": [
    "# Importando bibliotecas que serão úteis\n",
    "import pandas as pd #manipular tabela\n",
    "import numpy as np #operações numpy\n",
    "import seaborn as sns #manipular gráfico\n",
    "import matplotlib.pyplot as plt #manipular gráfico"
   ]
  }
 ],
 "metadata": {
  "kernelspec": {
   "display_name": ".venv",
   "language": "python",
   "name": "python3"
  },
  "language_info": {
   "codemirror_mode": {
    "name": "ipython",
    "version": 3
   },
   "file_extension": ".py",
   "mimetype": "text/x-python",
   "name": "python",
   "nbconvert_exporter": "python",
   "pygments_lexer": "ipython3",
   "version": "3.13.1"
  }
 },
 "nbformat": 4,
 "nbformat_minor": 2
}
